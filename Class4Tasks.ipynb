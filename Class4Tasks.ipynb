{
 "cells": [
  {
   "cell_type": "markdown",
   "metadata": {},
   "source": [
    "# Print value 1000 to 990 with (while and for loop)"
   ]
  },
  {
   "cell_type": "code",
   "execution_count": 5,
   "metadata": {},
   "outputs": [
    {
     "name": "stdout",
     "output_type": "stream",
     "text": [
      "1000\n",
      "999\n",
      "998\n",
      "997\n",
      "996\n",
      "995\n",
      "994\n",
      "993\n",
      "992\n",
      "991\n",
      "990\n"
     ]
    }
   ],
   "source": [
    "counter = 1000 # Counter\n",
    "\n",
    "while counter >= 990: #Logic\n",
    "    print(counter)\n",
    "    counter -= 1# Increment"
   ]
  },
  {
   "cell_type": "code",
   "execution_count": 3,
   "metadata": {},
   "outputs": [
    {
     "name": "stdout",
     "output_type": "stream",
     "text": [
      "1000\n",
      "999\n",
      "998\n",
      "997\n",
      "996\n",
      "995\n",
      "994\n",
      "993\n",
      "992\n",
      "991\n",
      "990\n"
     ]
    }
   ],
   "source": [
    "for i in range(1000, 989, -1):\n",
    "    print(i)"
   ]
  },
  {
   "cell_type": "markdown",
   "metadata": {},
   "source": [
    "# With assci code 65-90, 97-122, 48-57 print chracters base on above range with for loop"
   ]
  },
  {
   "cell_type": "raw",
   "metadata": {},
   "source": [
    "A  a  0\n",
    "B  b  1\n",
    "C  c  3"
   ]
  },
  {
   "cell_type": "code",
   "execution_count": 2,
   "metadata": {},
   "outputs": [
    {
     "name": "stdout",
     "output_type": "stream",
     "text": [
      "A a 0\n",
      "B b 1\n",
      "C c 2\n",
      "D d 3\n",
      "E e 4\n",
      "F f 5\n",
      "G g 6\n",
      "H h 7\n",
      "I i 8\n",
      "J j 9\n",
      "K k \n",
      "L l \n",
      "M m \n",
      "N n \n",
      "O o \n",
      "P p \n",
      "Q q \n",
      "R r \n",
      "S s \n",
      "T t \n",
      "U u \n",
      "V v \n",
      "W w \n",
      "X x \n",
      "Y y \n",
      "Z z \n"
     ]
    }
   ],
   "source": [
    "capalphabet = []\n",
    "smallalphabet = []\n",
    "numeric = []\n",
    "\n",
    "for i in range(65, 90 + 1):\n",
    "    capalphabet.append(chr(i))\n",
    "\n",
    "for j in range(97, 122 + 1):\n",
    "    smallalphabet.append(chr(j))\n",
    "\n",
    "for k in range(48, 57 + 1):\n",
    "    numeric.append(chr(k))\n",
    "\n",
    "mylist = [capalphabet, smallalphabet, numeric]\n",
    "for i in range(0, len(mylist[0])):\n",
    "    print(mylist[0][i], mylist[1][i], (mylist[2][i] if i < len(mylist[2]) else \"\"))\n"
   ]
  },
  {
   "cell_type": "markdown",
   "metadata": {},
   "source": [
    "# Take input from user, if user enter 3 then your output:"
   ]
  },
  {
   "cell_type": "raw",
   "metadata": {},
   "source": [
    "1 X 1 =    2 x 1 =     3 x 1 = \n",
    "1 X 2 =    2 x 2 =     3 x 2 = \n",
    "1 X 3 =    2 x 3 =     3 x 3 = \n",
    "1 X 4 =    2 x 4 =     3 x 4 = \n",
    "1 X 5 =    2 x 5 =     3 x 5 = \n",
    "1 X 6 =    2 x 6 =     3 x 6 = \n",
    "1 X 7 =    2 x 7 =     3 x 7 = \n",
    "1 X 8 =    2 x 8 =     3 x 8 = \n",
    "1 X 9 =    2 x 9 =     3 x 9 = \n",
    "1 X 10 =    2 x 10 =     3 x 10 ="
   ]
  },
  {
   "cell_type": "code",
   "execution_count": 22,
   "metadata": {},
   "outputs": [
    {
     "name": "stdout",
     "output_type": "stream",
     "text": [
      "Enter Number: 3\n",
      "1 x 1 = 1\t1 x 2 = 2\t1 x 3 = 3\t\n",
      "2 x 1 = 2\t2 x 2 = 4\t2 x 3 = 6\t\n",
      "3 x 1 = 3\t3 x 2 = 6\t3 x 3 = 9\t\n",
      "4 x 1 = 4\t4 x 2 = 8\t4 x 3 = 12\t\n",
      "5 x 1 = 5\t5 x 2 = 10\t5 x 3 = 15\t\n",
      "6 x 1 = 6\t6 x 2 = 12\t6 x 3 = 18\t\n",
      "7 x 1 = 7\t7 x 2 = 14\t7 x 3 = 21\t\n",
      "8 x 1 = 8\t8 x 2 = 16\t8 x 3 = 24\t\n",
      "9 x 1 = 9\t9 x 2 = 18\t9 x 3 = 27\t\n",
      "10 x 1 = 10\t10 x 2 = 20\t10 x 3 = 30\t\n"
     ]
    }
   ],
   "source": [
    "userinput = int(input(\"Enter Number: \"))\n",
    "\n",
    "for i in range(1, 11):\n",
    "    for j in range(1, userinput + 1):\n",
    "        print(f\"{i} x {j} = {i * j}\", end = \"\\t\")\n",
    "    print()\n",
    "       \n",
    "    "
   ]
  },
  {
   "cell_type": "code",
   "execution_count": 22,
   "metadata": {},
   "outputs": [
    {
     "name": "stdout",
     "output_type": "stream",
     "text": [
      "(0, 1, 5) \n",
      "(1, 2, 10) \n",
      "(2, 0, 20) (2, 1, 30) \n",
      "(3, 0, 35) (3, 2, 20) \n"
     ]
    }
   ],
   "source": [
    "l = [[2, 5, 9],\n",
    "    [8, 9, 10],\n",
    "    [20, 30, 27],\n",
    "    [35, 9, 20]]\n",
    "for ri,r in enumerate(l):\n",
    "    for ci,c in enumerate(r):\n",
    "        if c % 5 == 0:\n",
    "            print((ri, ci, c), end= \" \")\n",
    "    print()"
   ]
  },
  {
   "cell_type": "code",
   "execution_count": null,
   "metadata": {},
   "outputs": [],
   "source": [
    "initiative = 'You' # Friend or Girl\n",
    "rich = True\n",
    "slap = False\n",
    "if initiative == 'You':\n",
    "    if rich == True and slap == True:\n",
    "        print(\"Customer Feedback\")\n",
    "    elif rich == True and slap == False:\n",
    "        print(\"Direct Marketing.\")\n",
    "    elif husband == True:\n",
    "        print(\"Demand Supply Gap\")\n",
    "        \n",
    "elif initiative == 'Friend':\n",
    "    print(\"That's Advertising\")\n",
    "\n",
    "elif initiative == 'Girl':"
   ]
  }
 ],
 "metadata": {
  "kernelspec": {
   "display_name": "Python 3",
   "language": "python",
   "name": "python3"
  },
  "language_info": {
   "codemirror_mode": {
    "name": "ipython",
    "version": 3
   },
   "file_extension": ".py",
   "mimetype": "text/x-python",
   "name": "python",
   "nbconvert_exporter": "python",
   "pygments_lexer": "ipython3",
   "version": "3.7.3"
  }
 },
 "nbformat": 4,
 "nbformat_minor": 2
}
